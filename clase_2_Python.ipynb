{
 "cells": [
  {
   "cell_type": "markdown",
   "metadata": {},
   "source": [
    "**Problema integral nro0**\n",
    "\n",
    "Crear un código en el cual se le pida al usuario ingresar un valor entero N entre 0 y 100.  Con ese valor (debe ser válido) , calcular la suma de N numeros aleatorios entre 0 y 0.9999."
   ]
  },
  {
   "cell_type": "markdown",
   "metadata": {},
   "source": [
    "**Problema integral nro1**\n",
    "\n",
    "1. Simular puntos (x,y) en un plano bidimensional cuyo dominio sea un cuadrado de tamaño 1.  \n",
    "2. Imaginemos un circulo inscrito dentro del cuadrado cuyo diametro es 1. \n",
    "3. Calcular el la razón del número de puntos que aparecen dentro del circulo vs la cantidad de puntos totales.\n",
    "\n",
    "```\n",
    "def calcular_pi_montecarlo(Npuntos):    \n",
    "    pass\n",
    "\n",
    "print(f\"El valor de pi para {N} puntos es {calcular_pi_montecarlo(N)}\")\n",
    "```"
   ]
  },
  {
   "cell_type": "code",
   "execution_count": 61,
   "metadata": {},
   "outputs": [
    {
     "name": "stdout",
     "output_type": "stream",
     "text": [
      "El valor de pi para 1000000 puntos es 3.14428\n"
     ]
    }
   ],
   "source": [
    "from random import random as rnd \n",
    "\n",
    "def calcular_pi_montecarlo(Npuntos):\n",
    "\n",
    "    circulo = 0\n",
    "\n",
    "    for i in range(Npuntos):\n",
    "\n",
    "        (x,y) = rnd() , rnd()\n",
    "\n",
    "        if (x**2 + y**2) <=1:\n",
    "\n",
    "            circulo = circulo+1\n",
    "\n",
    "    return circulo*4/Npuntos\n",
    "\n",
    "N = 1000000\n",
    "print(f\"El valor de pi para {N} puntos es {calcular_pi_montecarlo(N)}\")"
   ]
  },
  {
   "cell_type": "markdown",
   "metadata": {},
   "source": [
    "# Métodos"
   ]
  },
  {
   "cell_type": "markdown",
   "metadata": {},
   "source": [
    " La principal diferencia es que un método es parte de una clase, es decir, es parte de la funcionalidad que le damos a un objeto. Por tanto, siempre va a estar asociado a un objeto. Sin embargo, las funciones en Python, están definidas por si mismas y no pertenecen a ninguna clase."
   ]
  },
  {
   "cell_type": "markdown",
   "metadata": {},
   "source": [
    "### Métodos de clase"
   ]
  },
  {
   "cell_type": "code",
   "execution_count": 48,
   "metadata": {},
   "outputs": [
    {
     "data": {
      "text/plain": [
       "('Método de clase', 34)"
      ]
     },
     "execution_count": 48,
     "metadata": {},
     "output_type": "execute_result"
    }
   ],
   "source": [
    "class Clase:\n",
    "    atributo1 = 34\n",
    "    @classmethod\n",
    "    def metododeclase(cls):\n",
    "        return 'Método de clase', cls.atributo1\n",
    "\n",
    "Clase.metododeclase()"
   ]
  },
  {
   "cell_type": "markdown",
   "metadata": {},
   "source": [
    "### Métodos estáticos"
   ]
  },
  {
   "cell_type": "markdown",
   "metadata": {},
   "source": [
    "Métodos estáticos (staticmethod)\n",
    "Por último, los métodos estáticos se pueden definir con el decorador @staticmethod y no aceptan como parámetro ni la instancia ni la clase. Es por ello por lo que no pueden modificar el estado ni de la clase ni de la instancia. Pero por supuesto pueden aceptar parámetros de entrada."
   ]
  },
  {
   "cell_type": "code",
   "execution_count": 44,
   "metadata": {},
   "outputs": [
    {
     "data": {
      "text/plain": [
       "'Método estático'"
      ]
     },
     "execution_count": 44,
     "metadata": {},
     "output_type": "execute_result"
    }
   ],
   "source": [
    "class Clase:\n",
    "    @staticmethod\n",
    "    def metodoestatico():\n",
    "        return \"Método estático\"\n",
    "\n",
    "mi_clase = Clase()\n",
    "Clase.metodoestatico()\n",
    "mi_clase.metodoestatico()   "
   ]
  },
  {
   "cell_type": "markdown",
   "metadata": {},
   "source": [
    "# Clases "
   ]
  },
  {
   "cell_type": "code",
   "execution_count": 49,
   "metadata": {},
   "outputs": [],
   "source": [
    "\n",
    "class Dog:\n",
    "\n",
    "    def __init__(self,name , age):\n",
    "\n",
    "        self.name = name\n",
    "        self.age  = age\n",
    "    \n",
    "    def __str__(self):\n",
    "\n",
    "        return \"Un objeto de tipo Dog\"\n",
    "        \n",
    "    def saludar(self):\n",
    "        print(f\"Hola , mi  nombres es {self.name} Y tengo {self.age} Woof!\")\n",
    "\n",
    "    def ladrar():\n",
    "        print(\"Woof Woof!\")\n",
    "        "
   ]
  },
  {
   "cell_type": "code",
   "execution_count": 50,
   "metadata": {},
   "outputs": [
    {
     "name": "stdout",
     "output_type": "stream",
     "text": [
      "Hola , mi  nombres es Spike Y tengo 29 Woof!\n"
     ]
    }
   ],
   "source": [
    "dog1 = Dog(\"Spike\", 29)\n",
    "\n",
    "dog1.saludar()"
   ]
  },
  {
   "cell_type": "code",
   "execution_count": 51,
   "metadata": {},
   "outputs": [
    {
     "name": "stdout",
     "output_type": "stream",
     "text": [
      "Un objeto de tipo Dog\n"
     ]
    }
   ],
   "source": [
    "print(dog1)"
   ]
  },
  {
   "cell_type": "code",
   "execution_count": 42,
   "metadata": {},
   "outputs": [],
   "source": [
    "class animal:\n",
    "\n",
    "    def __init__(self, tipo,genoma):\n",
    "\n",
    "        self.tipo = tipo\n",
    "        self.genoma = genoma\n",
    "\n",
    "    def respirar(self):\n",
    "        print(f\"Soy un animal de tipo {self.tipo} y estoy respirando\")\n",
    "\n",
    "    def decirGenoma(self):\n",
    "        print(f\"Mi genoma es el siguiente {self.genoma}\")\n",
    "\n",
    "\n",
    "class cat(animal):\n",
    "    def __init__(self,tipo , genoma  ,  nombre, clase_felina):\n",
    "        \n",
    "        self.genoma = genoma\n",
    "        self.tipo = tipo\n",
    "        self.nombre  = nombre\n",
    "        self.clase_felina = clase_felina\n",
    "\n",
    "        super().__init__(self.tipo,self.genoma)\n",
    "\n",
    "    def saludar(self):\n",
    "        print(f\"Mi nombre es {self.nombre}\")\n",
    "\n",
    "cat1 = cat(\"mamifero\" ,\"AGTCUAGTCU\", \"pepe\",\"doméstico\")"
   ]
  },
  {
   "cell_type": "code",
   "execution_count": 43,
   "metadata": {},
   "outputs": [
    {
     "name": "stdout",
     "output_type": "stream",
     "text": [
      "Soy un animal de tipo mamifero y estoy respirando\n",
      "Mi genoma es el siguiente AGTCUAGTCU\n"
     ]
    }
   ],
   "source": [
    "# metodo de la clase padre animal\n",
    "cat1.respirar()\n",
    "\n",
    "cat1.decirGenoma()"
   ]
  },
  {
   "cell_type": "code",
   "execution_count": 40,
   "metadata": {},
   "outputs": [
    {
     "name": "stdout",
     "output_type": "stream",
     "text": [
      "Mi nombre es pepe\n"
     ]
    }
   ],
   "source": [
    "# método de la clase hija\n",
    "\n",
    "cat1.saludar()"
   ]
  },
  {
   "cell_type": "markdown",
   "metadata": {},
   "source": [
    "### Ejemplo uso de dos clases"
   ]
  },
  {
   "cell_type": "code",
   "execution_count": 25,
   "metadata": {},
   "outputs": [],
   "source": [
    "class AgeNotValid(Exception):\n",
    "    def __init__(self, age, message=\"algun error\"):\n",
    "\n",
    "        self.age = age\n",
    "        self.message = message\n",
    "        super().__init__(self.message)\n",
    "\n",
    "\n",
    "class Dog():\n",
    "\n",
    "    def __init__(self,name , age):\n",
    "\n",
    "        if isinstance(age,int):\n",
    "            if (age>0)  and (age<30):\n",
    "                self.name = name\n",
    "                self.age  = age\n",
    "            else:\n",
    "                raise  AgeNotValid(age,\"No es una edad razonable\")\n",
    "        \n",
    "        else:\n",
    "            raise AgeNotValid(age,\"Edad debe ser un número entero\")\n",
    "    \n",
    "\n",
    "    def saludar(self):\n",
    "        print(f\"Hola , mi  nombres es {self.name} Y tengo {self.age} Woof!\")\n",
    "\n",
    "    def ladrar():\n",
    "        print(\"Woof Woof!\")\n"
   ]
  }
 ],
 "metadata": {
  "interpreter": {
   "hash": "dee797846c17e08ca05bc3ddd2fd55f3cf4fbe28d986f647c8f945c39d79c906"
  },
  "kernelspec": {
   "display_name": "Python 3.7.8 64-bit",
   "language": "python",
   "name": "python3"
  },
  "language_info": {
   "codemirror_mode": {
    "name": "ipython",
    "version": 3
   },
   "file_extension": ".py",
   "mimetype": "text/x-python",
   "name": "python",
   "nbconvert_exporter": "python",
   "pygments_lexer": "ipython3",
   "version": "3.7.8"
  },
  "orig_nbformat": 4
 },
 "nbformat": 4,
 "nbformat_minor": 2
}
